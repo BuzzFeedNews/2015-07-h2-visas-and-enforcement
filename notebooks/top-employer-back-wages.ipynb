{
 "cells": [
  {
   "cell_type": "markdown",
   "metadata": {},
   "source": [
    "# H-2 Back Wages by Employer\n",
    "\n",
    "The Python code below finds the employers that, for WHISARD investigations concluded between 2010 and 2014, have been found to owe the greatest back wages to H-2 guest workers.\n",
    "\n",
    "\n",
    "## Methodology\n",
    "\n",
    "1. Load all violations, and limit them to those that meet all of the following critera: (a) Classified as having an `ACT_ID` of `H2A` or `H2B`; (b) has an `E` (employee) record flag, as opposed to an `R` (employer) record flag; and (c) `DATE_CONCLUDED` is between 2010 and 2014.\n",
    "    \n",
    "2. Identify violations that pertain to U.S. workers, rather than guest workers, and exclude them from the analysis.\n",
    "\n",
    "3. Group the back wages by employers, based on the first available of the following: federal EIN, legal name, trade name.\n",
    "\n",
    "4. Find all employers with at least \\$100,000 in back wages for violations that fit the criteria above."
   ]
  },
  {
   "cell_type": "markdown",
   "metadata": {},
   "source": [
    "## Data Loading"
   ]
  },
  {
   "cell_type": "code",
   "execution_count": 1,
   "metadata": {
    "collapsed": false
   },
   "outputs": [],
   "source": [
    "import pandas as pd\n",
    "import sys\n",
    "sys.path.append(\"../utils\")\n",
    "import loaders"
   ]
  },
  {
   "cell_type": "markdown",
   "metadata": {},
   "source": [
    "*Note: `loaders` is a custom module to handle most common data-loading operations in these analyses. It is available [here](../utils/loaders.py).*"
   ]
  },
  {
   "cell_type": "code",
   "execution_count": 2,
   "metadata": {
    "collapsed": false
   },
   "outputs": [],
   "source": [
    "# Restrict cases to those concluded 2010–2015\n",
    "_cases = loaders.load_cases()\n",
    "cases = _cases[\n",
    "    (_cases[\"DATE_CONCLUDED_YEAR\"] >= 2010) &\n",
    "    (_cases[\"DATE_CONCLUDED_YEAR\"] <= 2014)\n",
    "]"
   ]
  },
  {
   "cell_type": "code",
   "execution_count": 3,
   "metadata": {
    "collapsed": true
   },
   "outputs": [],
   "source": [
    "_employers = loaders.load_employers()\n",
    "employer_basics = _employers.set_index(\"CASE_ID\")[[ \n",
    "    \"employer_id\",\n",
    "    \"ER_LEGAL_NAME\"\n",
    "]].copy()"
   ]
  },
  {
   "cell_type": "code",
   "execution_count": 4,
   "metadata": {
    "collapsed": true
   },
   "outputs": [],
   "source": [
    "violations = loaders.load_violations()"
   ]
  },
  {
   "cell_type": "markdown",
   "metadata": {},
   "source": [
    "## Violation Selection"
   ]
  },
  {
   "cell_type": "code",
   "execution_count": 5,
   "metadata": {
    "collapsed": false
   },
   "outputs": [],
   "source": [
    "# Get H-2A and H-2B violations from those cases, excluding the violation types listed above\n",
    "h2_employee_violations = violations[\n",
    "    violations[\"ACT_ID\"].isin([ \"H2A\", \"H2B\" ]) &\n",
    "    violations[\"CASE_ID\"].isin(cases[\"CASE_ID\"]) &\n",
    "    (violations[\"violation_found\"] == True) &\n",
    "    (violations[\"ER_EE_VIOL\"] == \"E\") # E = \"Employee\"\n",
    "].set_index(\"CASE_ID\")\\\n",
    "    .join(employer_basics)\\\n",
    "    .reset_index()\n",
    "    "
   ]
  },
  {
   "cell_type": "code",
   "execution_count": 6,
   "metadata": {
    "collapsed": true
   },
   "outputs": [],
   "source": [
    "# A list of back wage–associated violations that correspond to U.S. (rather than H-2) workers\n",
    "non_guestworker_descs = [\n",
    "    \"17 Preferential treatment given to H-2A workers\",\n",
    "    \"02 Unlawful rejection of US workers (2008 & 2010 Rules)\",\n",
    "    \"Requirement to Hire U.S. Workers - ER failed to properly hire or rehire U.S. workers\",\n",
    "    \"Layoff- ER improperly laid off similarly employed U.S. workers within 120 days of date of need, unless employee refused or was lawfully rejected\",\n",
    "    \"Job Opportunity - (U.S. workers) - ER failed to offer U.S. workers bona fide, full-time temp. position due to inequitable qualification requirements\",\n",
    "    \"Terms and Working Conditions for U.S. Workers - ER failed to offer terms and working conditions as required\"\n",
    "]"
   ]
  },
  {
   "cell_type": "code",
   "execution_count": 7,
   "metadata": {
    "collapsed": false
   },
   "outputs": [],
   "source": [
    "# Make sure we haven't mis-transcribed the violation descriptions above\n",
    "assert(len(set(non_guestworker_descs) - set(h2_employee_violations[\"VIOLATION_DESC\"])) == 0)"
   ]
  },
  {
   "cell_type": "code",
   "execution_count": 8,
   "metadata": {
    "collapsed": true
   },
   "outputs": [],
   "source": [
    "h2_guestworker_violations = h2_employee_violations[\n",
    "    ~h2_employee_violations[\"VIOLATION_DESC\"].isin(non_guestworker_descs)\n",
    "]"
   ]
  },
  {
   "cell_type": "code",
   "execution_count": 9,
   "metadata": {
    "collapsed": false
   },
   "outputs": [],
   "source": [
    "def join_unique_strings(series):\n",
    "    strings = sorted(set(series.fillna(\"\")))\n",
    "    return \" | \".join(strings)"
   ]
  },
  {
   "cell_type": "code",
   "execution_count": 10,
   "metadata": {
    "collapsed": false
   },
   "outputs": [],
   "source": [
    "# Group the H-2 violations by employer ID\n",
    "by_employer = h2_guestworker_violations.groupby(\"employer_id\")"
   ]
  },
  {
   "cell_type": "markdown",
   "metadata": {},
   "source": [
    "## Calculations"
   ]
  },
  {
   "cell_type": "code",
   "execution_count": 11,
   "metadata": {
    "collapsed": false
   },
   "outputs": [],
   "source": [
    "# Calculate employer aggregates\n",
    "employer_aggregates = pd.DataFrame({\n",
    "    \"h2_backwages\": by_employer[\"AMT_BW_ASSESSED\"].sum(),\n",
    "    \"names\": by_employer[\"ER_LEGAL_NAME\"].apply(join_unique_strings)\n",
    "})"
   ]
  },
  {
   "cell_type": "code",
   "execution_count": 12,
   "metadata": {
    "collapsed": false
   },
   "outputs": [],
   "source": [
    "# Get employer IDs associated with $100,000+ in H-2 back wages\n",
    "top_total_h2_backwages = employer_aggregates[\n",
    "    employer_aggregates[\"h2_backwages\"] >= 100000\n",
    "].sort(\"h2_backwages\", ascending=False)"
   ]
  },
  {
   "cell_type": "markdown",
   "metadata": {},
   "source": [
    "#### Employers owing the most back wages 2010–2014:"
   ]
  },
  {
   "cell_type": "code",
   "execution_count": 13,
   "metadata": {
    "collapsed": false
   },
   "outputs": [
    {
     "data": {
      "text/html": [
       "<div>\n",
       "<table border=\"1\" class=\"dataframe\">\n",
       "  <thead>\n",
       "    <tr style=\"text-align: right;\">\n",
       "      <th></th>\n",
       "      <th>h2_backwages</th>\n",
       "      <th>names</th>\n",
       "    </tr>\n",
       "    <tr>\n",
       "      <th>employer_id</th>\n",
       "      <th></th>\n",
       "      <th></th>\n",
       "    </tr>\n",
       "  </thead>\n",
       "  <tbody>\n",
       "    <tr>\n",
       "      <th>88-0175412</th>\n",
       "      <td>2338699.60</td>\n",
       "      <td>Peri &amp; Sons Farms, Inc.</td>\n",
       "    </tr>\n",
       "    <tr>\n",
       "      <th>06-1615735</th>\n",
       "      <td>438668.14</td>\n",
       "      <td>Global Horizons Manpower | Global Horizons Man...</td>\n",
       "    </tr>\n",
       "    <tr>\n",
       "      <th>64-0666940</th>\n",
       "      <td>423000.00</td>\n",
       "      <td>Simmons Farm Raised Catfish, Inc.</td>\n",
       "    </tr>\n",
       "    <tr>\n",
       "      <th>95-4673801</th>\n",
       "      <td>346488.18</td>\n",
       "      <td>Global Horizons Inc | Global Horizons Manpower...</td>\n",
       "    </tr>\n",
       "    <tr>\n",
       "      <th>68-0318735</th>\n",
       "      <td>289253.41</td>\n",
       "      <td>Sierra Cascade Nursery, Inc | Sierra-Cascade N...</td>\n",
       "    </tr>\n",
       "    <tr>\n",
       "      <th>14-1941427</th>\n",
       "      <td>251514.35</td>\n",
       "      <td>Toto's Picking, Inc.</td>\n",
       "    </tr>\n",
       "    <tr>\n",
       "      <th>83-0452790</th>\n",
       "      <td>178423.05</td>\n",
       "      <td>Britt's Garden Acres</td>\n",
       "    </tr>\n",
       "    <tr>\n",
       "      <th>77-0082593</th>\n",
       "      <td>160878.08</td>\n",
       "      <td>Escamilla &amp; Sons, Inc.</td>\n",
       "    </tr>\n",
       "    <tr>\n",
       "      <th>59-0881602</th>\n",
       "      <td>153076.16</td>\n",
       "      <td>Wm. G. Roe &amp; Sons, Inc.</td>\n",
       "    </tr>\n",
       "    <tr>\n",
       "      <th>20-5399333</th>\n",
       "      <td>148078.33</td>\n",
       "      <td>Overlook Harvesting Company LLC | Overlook Har...</td>\n",
       "    </tr>\n",
       "    <tr>\n",
       "      <th>71-0813021</th>\n",
       "      <td>130381.30</td>\n",
       "      <td>Randy Clanton Farms</td>\n",
       "    </tr>\n",
       "    <tr>\n",
       "      <th>72-1087404</th>\n",
       "      <td>116445.91</td>\n",
       "      <td>Liuzza Produce Farms, Inc.</td>\n",
       "    </tr>\n",
       "    <tr>\n",
       "      <th>11-3588079</th>\n",
       "      <td>116037.22</td>\n",
       "      <td>East Coast Sod,. LLC</td>\n",
       "    </tr>\n",
       "  </tbody>\n",
       "</table>\n",
       "</div>"
      ],
      "text/plain": [
       "             h2_backwages                                              names\n",
       "employer_id                                                                 \n",
       "88-0175412     2338699.60                            Peri & Sons Farms, Inc.\n",
       "06-1615735      438668.14  Global Horizons Manpower | Global Horizons Man...\n",
       "64-0666940      423000.00                  Simmons Farm Raised Catfish, Inc.\n",
       "95-4673801      346488.18  Global Horizons Inc | Global Horizons Manpower...\n",
       "68-0318735      289253.41  Sierra Cascade Nursery, Inc | Sierra-Cascade N...\n",
       "14-1941427      251514.35                               Toto's Picking, Inc.\n",
       "83-0452790      178423.05                               Britt's Garden Acres\n",
       "77-0082593      160878.08                             Escamilla & Sons, Inc.\n",
       "59-0881602      153076.16                            Wm. G. Roe & Sons, Inc.\n",
       "20-5399333      148078.33  Overlook Harvesting Company LLC | Overlook Har...\n",
       "71-0813021      130381.30                                Randy Clanton Farms\n",
       "72-1087404      116445.91                         Liuzza Produce Farms, Inc.\n",
       "11-3588079      116037.22                               East Coast Sod,. LLC"
      ]
     },
     "execution_count": 13,
     "metadata": {},
     "output_type": "execute_result"
    }
   ],
   "source": [
    "top_total_h2_backwages"
   ]
  },
  {
   "cell_type": "code",
   "execution_count": 14,
   "metadata": {
    "collapsed": false
   },
   "outputs": [],
   "source": [
    "# Save a copy as a CSV\n",
    "top_total_h2_backwages.to_csv(\"../output/top-total-h2-backwages-2010-2014.csv\")"
   ]
  },
  {
   "cell_type": "markdown",
   "metadata": {},
   "source": [
    "#### Details for Peri & Sons Farms:"
   ]
  },
  {
   "cell_type": "code",
   "execution_count": 15,
   "metadata": {
    "collapsed": false
   },
   "outputs": [
    {
     "data": {
      "text/html": [
       "<div>\n",
       "<table border=\"1\" class=\"dataframe\">\n",
       "  <thead>\n",
       "    <tr style=\"text-align: right;\">\n",
       "      <th></th>\n",
       "      <th></th>\n",
       "      <th></th>\n",
       "      <th>count</th>\n",
       "    </tr>\n",
       "    <tr>\n",
       "      <th>CASE_ID</th>\n",
       "      <th>ACT_ID</th>\n",
       "      <th>VIOLATION_DESC</th>\n",
       "      <th></th>\n",
       "    </tr>\n",
       "  </thead>\n",
       "  <tbody>\n",
       "    <tr>\n",
       "      <th rowspan=\"6\" valign=\"top\">1559021</th>\n",
       "      <th rowspan=\"6\" valign=\"top\">H2A</th>\n",
       "      <th>01 Failed to provide copy of work contract/job order</th>\n",
       "      <td>1</td>\n",
       "    </tr>\n",
       "    <tr>\n",
       "      <th>05 Failed to pay proper rate</th>\n",
       "      <td>1</td>\n",
       "    </tr>\n",
       "    <tr>\n",
       "      <th>09 Illegal charges for housing</th>\n",
       "      <td>1</td>\n",
       "    </tr>\n",
       "    <tr>\n",
       "      <th>10 Failed to provide transportation/subsistence</th>\n",
       "      <td>1</td>\n",
       "    </tr>\n",
       "    <tr>\n",
       "      <th>15 Fail to abide by agreement in the case of contract impossibility</th>\n",
       "      <td>1</td>\n",
       "    </tr>\n",
       "    <tr>\n",
       "      <th>27 Failed to pay required rate(s) of pay (2008 &amp; 2010 Rules)</th>\n",
       "      <td>1463</td>\n",
       "    </tr>\n",
       "  </tbody>\n",
       "</table>\n",
       "</div>"
      ],
      "text/plain": [
       "                                                                   count\n",
       "CASE_ID ACT_ID VIOLATION_DESC                                           \n",
       "1559021 H2A    01 Failed to provide copy of work contract/job ...      1\n",
       "               05 Failed to pay proper rate                            1\n",
       "               09 Illegal charges for housing                          1\n",
       "               10 Failed to provide transportation/subsistence         1\n",
       "               15 Fail to abide by agreement in the case of co...      1\n",
       "               27 Failed to pay required rate(s) of pay (2008 ...   1463"
      ]
     },
     "execution_count": 15,
     "metadata": {},
     "output_type": "execute_result"
    }
   ],
   "source": [
    "peri_violations = h2_guestworker_violations[\n",
    "    h2_guestworker_violations[\"employer_id\"] == \"88-0175412\"\n",
    "]\n",
    "pd.DataFrame({\n",
    "    \"count\": peri_violations.groupby([\n",
    "        \"CASE_ID\",\n",
    "        \"ACT_ID\",\n",
    "        \"VIOLATION_DESC\"\n",
    "    ]).size()\n",
    "})"
   ]
  },
  {
   "cell_type": "markdown",
   "metadata": {
    "collapsed": true
   },
   "source": [
    "---\n",
    "\n",
    "---\n",
    "\n",
    "---"
   ]
  }
 ],
 "metadata": {
  "kernelspec": {
   "display_name": "Python 2",
   "language": "python",
   "name": "python2"
  },
  "language_info": {
   "codemirror_mode": {
    "name": "ipython",
    "version": 2
   },
   "file_extension": ".py",
   "mimetype": "text/x-python",
   "name": "python",
   "nbconvert_exporter": "python",
   "pygments_lexer": "ipython2",
   "version": "2.7.9"
  }
 },
 "nbformat": 4,
 "nbformat_minor": 0
}
