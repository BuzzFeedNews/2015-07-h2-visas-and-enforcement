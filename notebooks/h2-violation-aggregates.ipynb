{
 "cells": [
  {
   "cell_type": "markdown",
   "metadata": {},
   "source": [
    "# Aggregated H-2 Guest Worker Violations\n",
    "\n",
    "The Python code below loads all WHISARD violations since 2005 (based on the end-date of the violation period); isolates the violations of laws meant to protect H-2 workers; and provides aggregate counts of the number of employers, certain violations, and workers.\n",
    "\n",
    "## Methodology\n",
    "\n",
    "1. Load all violations, and limit them to those that meet all of the following critera: (a) `DATE_END_VIOL_YEAR` is 2005 or later; (b) Classified as having an `ACT_ID` of \"H2A\" or \"H2B\"; and (c) has an `E` (employee) record flag, as opposed to an `R` (employer) record flag.\n",
    "    \n",
    "2. Group all of these violations by their violation \"description.\" Count the number of matching violations for each description.\n",
    "\n",
    "3. Identify violations that pertain to U.S. workers, rather than guest workers, and exclude them from the analysis.\n",
    "\n",
    "4. Identify violations that pertain to *underpaying* guest workers.\n",
    "\n",
    "5. Calculate the number of workers affected by each set of violations, and the number of employers named (based on the first available of the following: federal EIN, legal name, trade name)."
   ]
  },
  {
   "cell_type": "markdown",
   "metadata": {},
   "source": [
    "## Data loading"
   ]
  },
  {
   "cell_type": "code",
   "execution_count": 1,
   "metadata": {
    "collapsed": true
   },
   "outputs": [],
   "source": [
    "import pandas as pd\n",
    "import sys\n",
    "sys.path.append(\"../utils\")\n",
    "import loaders"
   ]
  },
  {
   "cell_type": "markdown",
   "metadata": {},
   "source": [
    "*Note: `loaders` is a custom module to handle most common data-loading operations in these analyses. It is available [here](../utils/loaders.py).*"
   ]
  },
  {
   "cell_type": "code",
   "execution_count": 2,
   "metadata": {
    "collapsed": true
   },
   "outputs": [],
   "source": [
    "employers = loaders.load_employers().set_index(\"CASE_ID\")"
   ]
  },
  {
   "cell_type": "code",
   "execution_count": 3,
   "metadata": {
    "collapsed": true
   },
   "outputs": [],
   "source": [
    "violations = loaders.load_violations().set_index(\"CASE_ID\")"
   ]
  },
  {
   "cell_type": "code",
   "execution_count": 4,
   "metadata": {
    "collapsed": false
   },
   "outputs": [],
   "source": [
    "joined = violations\\\n",
    "    .join(employers[[ \"ER_EIN\", \"employer_id\" ]])"
   ]
  },
  {
   "cell_type": "code",
   "execution_count": 5,
   "metadata": {
    "collapsed": false
   },
   "outputs": [],
   "source": [
    "# Get H-2A and H-2B violations from those cases\n",
    "h2_employee_violations = joined[\n",
    "    (joined[\"DATE_END_VIOL_YEAR\"] >= 2005) &\n",
    "    (joined[\"ACT_ID\"].isin([ \"H2A\", \"H2B\" ])) &\n",
    "    (joined[\"violation_found\"] == True) &\n",
    "    (joined[\"ER_EE_VIOL\"] == \"E\") # E = \"Employee\"\n",
    "]"
   ]
  },
  {
   "cell_type": "markdown",
   "metadata": {},
   "source": [
    "## List of violation counts by description and `ACT_ID`"
   ]
  },
  {
   "cell_type": "code",
   "execution_count": 6,
   "metadata": {
    "collapsed": true
   },
   "outputs": [],
   "source": [
    "by_act_and_description = h2_employee_violations.groupby([ \"VIOLATION_DESC\", \"ACT_ID\" ])"
   ]
  },
  {
   "cell_type": "code",
   "execution_count": 7,
   "metadata": {
    "collapsed": false,
    "scrolled": false
   },
   "outputs": [
    {
     "data": {
      "text/html": [
       "<div>\n",
       "<table border=\"1\" class=\"dataframe\">\n",
       "  <thead>\n",
       "    <tr style=\"text-align: right;\">\n",
       "      <th>ACT_ID</th>\n",
       "      <th>H2A</th>\n",
       "      <th>H2B</th>\n",
       "    </tr>\n",
       "    <tr>\n",
       "      <th>VIOLATION_DESC</th>\n",
       "      <th></th>\n",
       "      <th></th>\n",
       "    </tr>\n",
       "  </thead>\n",
       "  <tbody>\n",
       "    <tr>\n",
       "      <th>05 Failed to pay proper rate</th>\n",
       "      <td>5991</td>\n",
       "      <td>0</td>\n",
       "    </tr>\n",
       "    <tr>\n",
       "      <th>27 Failed to pay required rate(s) of pay (2008 &amp; 2010 Rules)</th>\n",
       "      <td>5525</td>\n",
       "      <td>0</td>\n",
       "    </tr>\n",
       "    <tr>\n",
       "      <th>01 Failed to provide copy of work contract/job order</th>\n",
       "      <td>4737</td>\n",
       "      <td>0</td>\n",
       "    </tr>\n",
       "    <tr>\n",
       "      <th>15 Failed to comply - \" inbound trans\" reqs (2008 &amp; 2010 Rules)</th>\n",
       "      <td>3376</td>\n",
       "      <td>0</td>\n",
       "    </tr>\n",
       "    <tr>\n",
       "      <th>17 Preferential treatment given to H-2A workers</th>\n",
       "      <td>3081</td>\n",
       "      <td>0</td>\n",
       "    </tr>\n",
       "    <tr>\n",
       "      <th>10 Failed to provide transportation/subsistence</th>\n",
       "      <td>2462</td>\n",
       "      <td>0</td>\n",
       "    </tr>\n",
       "    <tr>\n",
       "      <th>04 Failed to pay wages when due</th>\n",
       "      <td>1921</td>\n",
       "      <td>0</td>\n",
       "    </tr>\n",
       "    <tr>\n",
       "      <th>18 Failed to comply - \"outbound trans\" reqs (2008 &amp; 2010 Rules)</th>\n",
       "      <td>1703</td>\n",
       "      <td>0</td>\n",
       "    </tr>\n",
       "    <tr>\n",
       "      <th>07 Illegal deductions</th>\n",
       "      <td>1544</td>\n",
       "      <td>0</td>\n",
       "    </tr>\n",
       "    <tr>\n",
       "      <th>28 Unlawful deductions (2008 &amp; 2010 Rules)</th>\n",
       "      <td>1230</td>\n",
       "      <td>0</td>\n",
       "    </tr>\n",
       "    <tr>\n",
       "      <th>06 Failed to pay 3/4 guarantee</th>\n",
       "      <td>1192</td>\n",
       "      <td>0</td>\n",
       "    </tr>\n",
       "    <tr>\n",
       "      <th>09 Illegal charges for housing</th>\n",
       "      <td>957</td>\n",
       "      <td>0</td>\n",
       "    </tr>\n",
       "    <tr>\n",
       "      <th>19 Failed to comply - 3/4-guarantee req (2008 &amp; 2010 Rules)</th>\n",
       "      <td>643</td>\n",
       "      <td>0</td>\n",
       "    </tr>\n",
       "    <tr>\n",
       "      <th>41 Unlawful cost-shifting (2008 &amp; 2010 Rules)</th>\n",
       "      <td>423</td>\n",
       "      <td>0</td>\n",
       "    </tr>\n",
       "    <tr>\n",
       "      <th>06 Failed to provide housing at no cost (2008 &amp; 2010 Rules)</th>\n",
       "      <td>141</td>\n",
       "      <td>0</td>\n",
       "    </tr>\n",
       "    <tr>\n",
       "      <th>14 Failed to comply - \"meals\" requirements (2008 &amp; 2010 Rules)</th>\n",
       "      <td>90</td>\n",
       "      <td>0</td>\n",
       "    </tr>\n",
       "    <tr>\n",
       "      <th>02 Unlawful rejection of US workers (2008 &amp; 2010 Rules)</th>\n",
       "      <td>81</td>\n",
       "      <td>0</td>\n",
       "    </tr>\n",
       "    <tr>\n",
       "      <th>24 Failed to keep records for 3-years (2008 &amp; 2010 Rules)</th>\n",
       "      <td>45</td>\n",
       "      <td>0</td>\n",
       "    </tr>\n",
       "    <tr>\n",
       "      <th>09 Unlawful charges for public housing (2008 &amp; 2010 Rules)</th>\n",
       "      <td>18</td>\n",
       "      <td>0</td>\n",
       "    </tr>\n",
       "    <tr>\n",
       "      <th>23 Failed to make available required records (2008 &amp; 2010 Rules)</th>\n",
       "      <td>14</td>\n",
       "      <td>0</td>\n",
       "    </tr>\n",
       "    <tr>\n",
       "      <th>15 Fail to abide by agreement in the case of contract impossibility</th>\n",
       "      <td>9</td>\n",
       "      <td>0</td>\n",
       "    </tr>\n",
       "    <tr>\n",
       "      <th>10 Unlawful deposits - bedding/housing items (2008 &amp; 2010 Rules)</th>\n",
       "      <td>3</td>\n",
       "      <td>0</td>\n",
       "    </tr>\n",
       "    <tr>\n",
       "      <th>Offered Wage- failed to pay the offered wage rate which equals or exceeds the  highest of the prevailing wage, Federal, State, or local minimum wage</th>\n",
       "      <td>0</td>\n",
       "      <td>1171</td>\n",
       "    </tr>\n",
       "    <tr>\n",
       "      <th>Wages - Prohibited Fees - ER sought or required workers to pay prohibited fees or expenses related to the TEC (petition/agent/attorney/recruitment)</th>\n",
       "      <td>0</td>\n",
       "      <td>221</td>\n",
       "    </tr>\n",
       "    <tr>\n",
       "      <th>Improper Job Classification -  placed worker in occupation other than one certified on TEC.</th>\n",
       "      <td>0</td>\n",
       "      <td>68</td>\n",
       "    </tr>\n",
       "    <tr>\n",
       "      <th>Terms and Working Conditions for U.S. Workers - ER failed to offer terms and working conditions as required</th>\n",
       "      <td>0</td>\n",
       "      <td>59</td>\n",
       "    </tr>\n",
       "    <tr>\n",
       "      <th>Impermissible Deductions - ER failed to specify deductions from pay.</th>\n",
       "      <td>0</td>\n",
       "      <td>43</td>\n",
       "    </tr>\n",
       "    <tr>\n",
       "      <th>Wages - Transportation - ER failed to pay for outbound transportation for H-2B workers dismissed before the end of the certified period of employment</th>\n",
       "      <td>0</td>\n",
       "      <td>29</td>\n",
       "    </tr>\n",
       "    <tr>\n",
       "      <th>Incentive Wage - offered wage based on incentives failed to equal or exceed highest of the PW/Fed./State/local MW on a weekly/bi-weekly/monthly basis.</th>\n",
       "      <td>0</td>\n",
       "      <td>15</td>\n",
       "    </tr>\n",
       "    <tr>\n",
       "      <th>Place of Employment - placed H2-B workers outside the area of intended employment certified on the TEC</th>\n",
       "      <td>0</td>\n",
       "      <td>13</td>\n",
       "    </tr>\n",
       "    <tr>\n",
       "      <th>Requirement to Hire U.S. Workers - ER failed to properly hire or rehire U.S. workers</th>\n",
       "      <td>0</td>\n",
       "      <td>12</td>\n",
       "    </tr>\n",
       "    <tr>\n",
       "      <th>Layoff- ER improperly laid off similarly employed U.S. workers within 120 days of date of need, unless employee refused or was lawfully rejected</th>\n",
       "      <td>0</td>\n",
       "      <td>8</td>\n",
       "    </tr>\n",
       "    <tr>\n",
       "      <th>Job Opportunity - (U.S. workers) - ER failed to offer U.S. workers bona fide, full-time temp. position due to inequitable qualification requirements</th>\n",
       "      <td>0</td>\n",
       "      <td>3</td>\n",
       "    </tr>\n",
       "    <tr>\n",
       "      <th>Back Wages due - failure to offer worker bona fide, full-time temporary position comparable to U.S. workers similarly employed Attestation 1</th>\n",
       "      <td>0</td>\n",
       "      <td>2</td>\n",
       "    </tr>\n",
       "  </tbody>\n",
       "</table>\n",
       "</div>"
      ],
      "text/plain": [
       "ACT_ID                                               H2A   H2B\n",
       "VIOLATION_DESC                                                \n",
       "05 Failed to pay proper rate                        5991     0\n",
       "27 Failed to pay required rate(s) of pay (2008 ...  5525     0\n",
       "01 Failed to provide copy of work contract/job ...  4737     0\n",
       "15 Failed to comply - \" inbound trans\" reqs (20...  3376     0\n",
       "17 Preferential treatment given to H-2A workers     3081     0\n",
       "10 Failed to provide transportation/subsistence     2462     0\n",
       "04 Failed to pay wages when due                     1921     0\n",
       "18 Failed to comply - \"outbound trans\" reqs (20...  1703     0\n",
       "07 Illegal deductions                               1544     0\n",
       "28 Unlawful deductions (2008 & 2010 Rules)          1230     0\n",
       "06 Failed to pay 3/4 guarantee                      1192     0\n",
       "09 Illegal charges for housing                       957     0\n",
       "19 Failed to comply - 3/4-guarantee req (2008 &...   643     0\n",
       "41 Unlawful cost-shifting (2008 & 2010 Rules)        423     0\n",
       "06 Failed to provide housing at no cost (2008 &...   141     0\n",
       "14 Failed to comply - \"meals\" requirements (200...    90     0\n",
       "02 Unlawful rejection of US workers (2008 & 201...    81     0\n",
       "24 Failed to keep records for 3-years (2008 & 2...    45     0\n",
       "09 Unlawful charges for public housing (2008 & ...    18     0\n",
       "23 Failed to make available required records (2...    14     0\n",
       "15 Fail to abide by agreement in the case of co...     9     0\n",
       "10 Unlawful deposits - bedding/housing items (2...     3     0\n",
       "Offered Wage- failed to pay the offered wage ra...     0  1171\n",
       "Wages - Prohibited Fees - ER sought or required...     0   221\n",
       "Improper Job Classification -  placed worker in...     0    68\n",
       "Terms and Working Conditions for U.S. Workers -...     0    59\n",
       "Impermissible Deductions - ER failed to specify...     0    43\n",
       "Wages - Transportation - ER failed to pay for o...     0    29\n",
       "Incentive Wage - offered wage based on incentiv...     0    15\n",
       "Place of Employment - placed H2-B workers outsi...     0    13\n",
       "Requirement to Hire U.S. Workers - ER failed to...     0    12\n",
       "Layoff- ER improperly laid off similarly employ...     0     8\n",
       "Job Opportunity - (U.S. workers) - ER failed to...     0     3\n",
       "Back Wages due - failure to offer worker bona f...     0     2"
      ]
     },
     "execution_count": 7,
     "metadata": {},
     "output_type": "execute_result"
    }
   ],
   "source": [
    "violation_counts = by_act_and_description\\\n",
    "    .size()\\\n",
    "    .unstack()\\\n",
    "    .fillna(0)\\\n",
    "    .sort([ \"H2A\", \"H2B\" ], ascending=False)\n",
    "violation_counts"
   ]
  },
  {
   "cell_type": "markdown",
   "metadata": {},
   "source": [
    "## Violation description categories"
   ]
  },
  {
   "cell_type": "code",
   "execution_count": 8,
   "metadata": {
    "collapsed": true
   },
   "outputs": [],
   "source": [
    "non_guestworker_descs = [\n",
    "    \"17 Preferential treatment given to H-2A workers\",\n",
    "    \"02 Unlawful rejection of US workers (2008 & 2010 Rules)\",\n",
    "    \"Requirement to Hire U.S. Workers - ER failed to properly hire or rehire U.S. workers\",\n",
    "    \"Layoff- ER improperly laid off similarly employed U.S. workers within 120 days of date of need, unless employee refused or was lawfully rejected\",\n",
    "    \"Job Opportunity - (U.S. workers) - ER failed to offer U.S. workers bona fide, full-time temp. position due to inequitable qualification requirements\",\n",
    "    \"Terms and Working Conditions for U.S. Workers - ER failed to offer terms and working conditions as required\"\n",
    "]"
   ]
  },
  {
   "cell_type": "code",
   "execution_count": 9,
   "metadata": {
    "collapsed": true
   },
   "outputs": [],
   "source": [
    "guestworker_wage_viols = [\n",
    "    \"27 Failed to pay required rate(s) of pay (2008 & 2010 Rules)\",\n",
    "    \"05 Failed to pay proper rate\",\n",
    "    \"07 Illegal deductions\",\n",
    "    \"28 Unlawful deductions (2008 & 2010 Rules)\",\n",
    "    \"06 Failed to pay 3/4 guarantee\",\n",
    "    \"09 Illegal charges for housing\",\n",
    "    \"19 Failed to comply - 3/4-guarantee req (2008 & 2010 Rules)\",\n",
    "    \"09 Unlawful charges for public housing (2008 & 2010 Rules)\",\n",
    "    \"Offered Wage- failed to pay the offered wage rate which equals or exceeds the  highest of the prevailing wage, Federal, State, or local minimum wage\",\n",
    "    \"Wages - Prohibited Fees - ER sought or required workers to pay prohibited fees or expenses related to the TEC (petition/agent/attorney/recruitment)\",\n",
    "    \"Impermissible Deductions - ER failed to specify deductions from pay.\",\n",
    "    \"Incentive Wage - offered wage based on incentives failed to equal or exceed highest of the PW/Fed./State/local MW on a weekly/bi-weekly/monthly basis.\",\n",
    "    \"Back Wages due - failure to offer worker bona fide, full-time temporary position comparable to U.S. workers similarly employed Attestation 1\"\n",
    "]"
   ]
  },
  {
   "cell_type": "code",
   "execution_count": 10,
   "metadata": {
    "collapsed": false
   },
   "outputs": [],
   "source": [
    "# Make sure that we've correctly transcribed the violation descriptions\n",
    "assert((violation_counts.ix[non_guestworker_descs].sum(axis=1) > 0).mean() == 1)\n",
    "assert((violation_counts.ix[guestworker_wage_viols].sum(axis=1) > 0).mean() == 1)"
   ]
  },
  {
   "cell_type": "code",
   "execution_count": 11,
   "metadata": {
    "collapsed": false
   },
   "outputs": [],
   "source": [
    "h2_guestworker_violations = h2_employee_violations[\n",
    "    ~h2_employee_violations[\"VIOLATION_DESC\"].isin(non_guestworker_descs)\n",
    "]"
   ]
  },
  {
   "cell_type": "code",
   "execution_count": 12,
   "metadata": {
    "collapsed": true
   },
   "outputs": [],
   "source": [
    "h2_guestworker_wage_violations = h2_employee_violations[\n",
    "    h2_employee_violations[\"VIOLATION_DESC\"].isin(guestworker_wage_viols)\n",
    "]"
   ]
  },
  {
   "cell_type": "markdown",
   "metadata": {},
   "source": [
    "## Calculations"
   ]
  },
  {
   "cell_type": "markdown",
   "metadata": {},
   "source": [
    "#### Counts of employers found to have violated laws designed to protect H-2 guest workers:"
   ]
  },
  {
   "cell_type": "code",
   "execution_count": 13,
   "metadata": {
    "collapsed": false
   },
   "outputs": [
    {
     "data": {
      "text/plain": [
       "867"
      ]
     },
     "execution_count": 13,
     "metadata": {},
     "output_type": "execute_result"
    }
   ],
   "source": [
    "h2_guestworker_violations[\"employer_id\"].nunique()"
   ]
  },
  {
   "cell_type": "code",
   "execution_count": 14,
   "metadata": {
    "collapsed": false
   },
   "outputs": [
    {
     "data": {
      "text/plain": [
       "820"
      ]
     },
     "execution_count": 14,
     "metadata": {},
     "output_type": "execute_result"
    }
   ],
   "source": [
    "h2_guestworker_violations[\n",
    "    (h2_guestworker_violations[\"employer_id\"] == h2_guestworker_violations[\"ER_EIN\"])\n",
    "][\"ER_EIN\"].nunique()"
   ]
  },
  {
   "cell_type": "markdown",
   "metadata": {},
   "source": [
    "*Note: The first count above uses employers' legal or trade names if their case data does not include an EIN. The second count includes only employers with EINs.*\n",
    "\n",
    "---"
   ]
  },
  {
   "cell_type": "markdown",
   "metadata": {},
   "source": [
    "#### Count of such workers violated:"
   ]
  },
  {
   "cell_type": "code",
   "execution_count": 15,
   "metadata": {
    "collapsed": false
   },
   "outputs": [
    {
     "data": {
      "text/plain": [
       "23674"
      ]
     },
     "execution_count": 15,
     "metadata": {},
     "output_type": "execute_result"
    }
   ],
   "source": [
    "h2_guestworker_violations[\"CASE_EER_ID\"].nunique()"
   ]
  },
  {
   "cell_type": "markdown",
   "metadata": {},
   "source": [
    "*Note: Individual workers are uniquely identified on a per-case basis, but are not tracked across cases or employers.*\n",
    "\n",
    "---"
   ]
  },
  {
   "cell_type": "markdown",
   "metadata": {},
   "source": [
    "#### Count of H-2 workers being paid less than the promised wage:"
   ]
  },
  {
   "cell_type": "code",
   "execution_count": 16,
   "metadata": {
    "collapsed": false
   },
   "outputs": [
    {
     "data": {
      "text/plain": [
       "16231"
      ]
     },
     "execution_count": 16,
     "metadata": {},
     "output_type": "execute_result"
    }
   ],
   "source": [
    "h2_guestworker_wage_violations[\"CASE_EER_ID\"].nunique()"
   ]
  },
  {
   "cell_type": "markdown",
   "metadata": {},
   "source": [
    "*Note: Includes \"illegal deductions\" and permutations thereof. Excludes \"failed for pay for inbound/outbound transportation\" and permutations thereof. Also excludes \"failed to pay wages when due.\"*\n",
    "\n",
    "---"
   ]
  },
  {
   "cell_type": "markdown",
   "metadata": {},
   "source": [
    "---\n",
    "\n",
    "---\n",
    "\n",
    "---"
   ]
  }
 ],
 "metadata": {
  "kernelspec": {
   "display_name": "Python 2",
   "language": "python",
   "name": "python2"
  },
  "language_info": {
   "codemirror_mode": {
    "name": "ipython",
    "version": 2
   },
   "file_extension": ".py",
   "mimetype": "text/x-python",
   "name": "python",
   "nbconvert_exporter": "python",
   "pygments_lexer": "ipython2",
   "version": "2.7.9"
  }
 },
 "nbformat": 4,
 "nbformat_minor": 0
}
