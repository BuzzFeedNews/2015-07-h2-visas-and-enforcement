{
 "cells": [
  {
   "cell_type": "markdown",
   "metadata": {},
   "source": [
    "# Harvest Time Seafood, WHD Case 1630475\n",
    "\n",
    "Below are key details of Wage and Hour Division's findings for case number 1630475."
   ]
  },
  {
   "cell_type": "code",
   "execution_count": 1,
   "metadata": {
    "collapsed": true
   },
   "outputs": [],
   "source": [
    "import sys\n",
    "sys.path.append(\"../utils\")\n",
    "import loaders"
   ]
  },
  {
   "cell_type": "code",
   "execution_count": 2,
   "metadata": {
    "collapsed": true
   },
   "outputs": [],
   "source": [
    "cases = loaders.load_cases().set_index(\"CASE_ID\")"
   ]
  },
  {
   "cell_type": "code",
   "execution_count": 3,
   "metadata": {
    "collapsed": true
   },
   "outputs": [],
   "source": [
    "employers = loaders.load_employers().set_index(\"CASE_ID\")"
   ]
  },
  {
   "cell_type": "code",
   "execution_count": 4,
   "metadata": {
    "collapsed": false,
    "scrolled": true
   },
   "outputs": [
    {
     "data": {
      "text/html": [
       "<div>\n",
       "<table border=\"1\" class=\"dataframe\">\n",
       "  <thead>\n",
       "    <tr style=\"text-align: right;\">\n",
       "      <th>CASE_ID</th>\n",
       "      <th>1620475</th>\n",
       "    </tr>\n",
       "  </thead>\n",
       "  <tbody>\n",
       "    <tr>\n",
       "      <th>ER_LEGAL_NAME</th>\n",
       "      <td>Harvest Time Seafood, Inc.</td>\n",
       "    </tr>\n",
       "    <tr>\n",
       "      <th>ER_TRADE_NAME</th>\n",
       "      <td>Harvest Time Seafood, Inc.</td>\n",
       "    </tr>\n",
       "    <tr>\n",
       "      <th>ER_CITY</th>\n",
       "      <td>Abbeville</td>\n",
       "    </tr>\n",
       "    <tr>\n",
       "      <th>ER_STATE_ID</th>\n",
       "      <td>LA</td>\n",
       "    </tr>\n",
       "    <tr>\n",
       "      <th>TTL_CASE_VIOLATION</th>\n",
       "      <td>167</td>\n",
       "    </tr>\n",
       "    <tr>\n",
       "      <th>AMT_BW_ASSESSED</th>\n",
       "      <td>52202.39</td>\n",
       "    </tr>\n",
       "    <tr>\n",
       "      <th>REGISTRATION_ACT</th>\n",
       "      <td>H2B</td>\n",
       "    </tr>\n",
       "    <tr>\n",
       "      <th>DATE_REGISTERED</th>\n",
       "      <td>2011-05-26 00:00:00</td>\n",
       "    </tr>\n",
       "    <tr>\n",
       "      <th>DATE_CONCLUDED</th>\n",
       "      <td>2013-08-22 00:00:00</td>\n",
       "    </tr>\n",
       "  </tbody>\n",
       "</table>\n",
       "</div>"
      ],
      "text/plain": [
       "CASE_ID                                1620475\n",
       "ER_LEGAL_NAME       Harvest Time Seafood, Inc.\n",
       "ER_TRADE_NAME       Harvest Time Seafood, Inc.\n",
       "ER_CITY                              Abbeville\n",
       "ER_STATE_ID                                 LA\n",
       "TTL_CASE_VIOLATION                         167\n",
       "AMT_BW_ASSESSED                       52202.39\n",
       "REGISTRATION_ACT                           H2B\n",
       "DATE_REGISTERED            2011-05-26 00:00:00\n",
       "DATE_CONCLUDED             2013-08-22 00:00:00"
      ]
     },
     "execution_count": 4,
     "metadata": {},
     "output_type": "execute_result"
    }
   ],
   "source": [
    "cases.ix[[1620475]].join(employers)[[\n",
    "    \"ER_LEGAL_NAME\",\n",
    "    \"ER_TRADE_NAME\",\n",
    "    \"ER_CITY\",\n",
    "    \"ER_STATE_ID\",\n",
    "    \"TTL_CASE_VIOLATION\",\n",
    "    \"AMT_BW_ASSESSED\",\n",
    "    \"REGISTRATION_ACT\",\n",
    "    \"DATE_REGISTERED\",\n",
    "    \"DATE_CONCLUDED\",\n",
    "]].T"
   ]
  },
  {
   "cell_type": "markdown",
   "metadata": {},
   "source": [
    "---\n",
    "\n",
    "---\n",
    "\n",
    "---"
   ]
  }
 ],
 "metadata": {
  "kernelspec": {
   "display_name": "Python 2",
   "language": "python",
   "name": "python2"
  },
  "language_info": {
   "codemirror_mode": {
    "name": "ipython",
    "version": 2
   },
   "file_extension": ".py",
   "mimetype": "text/x-python",
   "name": "python",
   "nbconvert_exporter": "python",
   "pygments_lexer": "ipython2",
   "version": "2.7.9"
  }
 },
 "nbformat": 4,
 "nbformat_minor": 0
}
