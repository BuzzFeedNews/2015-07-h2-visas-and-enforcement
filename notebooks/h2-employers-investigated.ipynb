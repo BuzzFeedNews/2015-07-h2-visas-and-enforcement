{
 "cells": [
  {
   "cell_type": "markdown",
   "metadata": {},
   "source": [
    "# H-2 Employers Investigated Per Fiscal Year\n",
    "\n",
    "The Python code below calculates the number of WHD cases *concluded* each fiscal year that examined some aspect of H-2 regulations, and the number of distinct employer IDs associated with those cases. In addition, it provides a rough estimate of the number of employers certified for H-2 per fiscal year, to support the statement that \"vast majority\" of H-2 certified employers are not inspected.\n",
    "\n",
    "*Note: The visa certification data published by the OFLC do not include unique identifiers for employers. Additionally, the data contain multiple alternate spellings and mis-spellings of employer names, making it difficult to determine the number of distinct employers. For these reasons, this analysis intentionally does not provide an overall inspection rate. It should be clear from the numbers below, however, that number of H-2 employers that WHD inspects each year amounts to a small fraction of the number of employers that DOL certifies for H-2 visas.*\n",
    "\n",
    "## Investigations Methodology\n",
    "\n",
    "- Load the `CASE_ACT_SUMMARY` rows for each case, and select those for the \"H2A\" and \"H2B\" `ACT_ID`s. This includes any case with H-2 findings, *regardless of whether WHD identified any violations*.\n",
    "- For each fiscal year 2010 - 2014, the case was \"concluded,\" and by the `CASE_ID` (since some employers have summaries for both H-2A and H-2B findings).\n",
    "- For each fiscal year, FY 2010–2014, count the number of cases and unique employer IDs.\n",
    "\n",
    "## Certifications Methodology\n",
    "\n",
    "- Load list of the Office of Foreign Labor Certification's H-2 certification decisions.\n",
    "- Select only decisions to certify visas (rather than deny them), and exclude expired certifications as well as certifications for umbrella organizations (rather than specific employers).\n",
    "- Standardize the provided employer name by uppercasing the names and removing punctuation.\n",
    "- For each fiscal year of decisions, FY 2010–2014, count the number of unique (standardized) employer names."
   ]
  },
  {
   "cell_type": "markdown",
   "metadata": {},
   "source": [
    "## Data Loading — Investigations"
   ]
  },
  {
   "cell_type": "code",
   "execution_count": 1,
   "metadata": {
    "collapsed": true
   },
   "outputs": [],
   "source": [
    "import pandas as pd\n",
    "import sys\n",
    "import re\n",
    "sys.path.append(\"../utils\")\n",
    "import loaders"
   ]
  },
  {
   "cell_type": "markdown",
   "metadata": {},
   "source": [
    "*Note: `loaders` is a custom module to handle most common data-loading operations in these analyses. It is available [here](../utils/loaders.py).*"
   ]
  },
  {
   "cell_type": "code",
   "execution_count": 2,
   "metadata": {
    "collapsed": false
   },
   "outputs": [],
   "source": [
    "employers = loaders.load_employers().set_index(\"CASE_ID\")"
   ]
  },
  {
   "cell_type": "code",
   "execution_count": 3,
   "metadata": {
    "collapsed": true
   },
   "outputs": [],
   "source": [
    "cases = loaders.load_cases().set_index(\"CASE_ID\")"
   ]
  },
  {
   "cell_type": "code",
   "execution_count": 4,
   "metadata": {
    "collapsed": true
   },
   "outputs": [],
   "source": [
    "cases_basics = cases[[ \"DATE_CONCLUDED_FY\", \"INVEST_TOOL_DESC\" ]]\\\n",
    "    .join(employers[ \"employer_id\" ])\\\n",
    "    .reset_index()"
   ]
  },
  {
   "cell_type": "code",
   "execution_count": 5,
   "metadata": {
    "collapsed": false
   },
   "outputs": [],
   "source": [
    "act_summaries = loaders.load_act_summaries()"
   ]
  },
  {
   "cell_type": "code",
   "execution_count": 6,
   "metadata": {
    "collapsed": false
   },
   "outputs": [],
   "source": [
    "h2_summaries = act_summaries[\n",
    "    act_summaries[\"ACT_ID\"].isin([ \"H2A\", \"H2B\" ])\n",
    "]"
   ]
  },
  {
   "cell_type": "code",
   "execution_count": 7,
   "metadata": {
    "collapsed": false
   },
   "outputs": [],
   "source": [
    "matching_cases = cases_basics[\n",
    "    cases_basics[\"CASE_ID\"].isin(h2_summaries[\"CASE_ID\"]) &\n",
    "    (cases_basics[\"DATE_CONCLUDED_FY\"] >= 2010) &\n",
    "    (cases_basics[\"DATE_CONCLUDED_FY\"] <= 2014)\n",
    "]"
   ]
  },
  {
   "cell_type": "code",
   "execution_count": 8,
   "metadata": {
    "collapsed": true
   },
   "outputs": [],
   "source": [
    "invest_tool_counts = matching_cases[\"INVEST_TOOL_DESC\"].value_counts()"
   ]
  },
  {
   "cell_type": "code",
   "execution_count": 9,
   "metadata": {
    "collapsed": false
   },
   "outputs": [],
   "source": [
    "case_counts = matching_cases.groupby([\n",
    "    \"DATE_CONCLUDED_FY\",\n",
    "    \"INVEST_TOOL_DESC\"\n",
    "])[\"CASE_ID\"].nunique()\\\n",
    "    .unstack()\\\n",
    "    .fillna(0)\\\n",
    "    [invest_tool_counts.index.tolist()]\n",
    "case_counts[\"[total]\"] = case_counts.sum(axis=1)"
   ]
  },
  {
   "cell_type": "code",
   "execution_count": 10,
   "metadata": {
    "collapsed": true
   },
   "outputs": [],
   "source": [
    "employer_counts = pd.DataFrame({\n",
    "    \"n_employer_ids\": matching_cases.groupby(\"DATE_CONCLUDED_FY\")[\"employer_id\"].nunique()\n",
    "})"
   ]
  },
  {
   "cell_type": "markdown",
   "metadata": {},
   "source": [
    "### Number of H-2–related cases by overall investigation type and fiscal year concluded:"
   ]
  },
  {
   "cell_type": "code",
   "execution_count": 11,
   "metadata": {
    "collapsed": false
   },
   "outputs": [
    {
     "data": {
      "text/html": [
       "<div>\n",
       "<table border=\"1\" class=\"dataframe\">\n",
       "  <thead>\n",
       "    <tr style=\"text-align: right;\">\n",
       "      <th>INVEST_TOOL_DESC</th>\n",
       "      <th>Full Investigation</th>\n",
       "      <th>Limited Investigation</th>\n",
       "      <th>Housing Pre-Occupancy Insp.</th>\n",
       "      <th>Conciliation</th>\n",
       "      <th>Office Audit</th>\n",
       "      <th>Self Audit</th>\n",
       "      <th>[total]</th>\n",
       "    </tr>\n",
       "    <tr>\n",
       "      <th>DATE_CONCLUDED_FY</th>\n",
       "      <th></th>\n",
       "      <th></th>\n",
       "      <th></th>\n",
       "      <th></th>\n",
       "      <th></th>\n",
       "      <th></th>\n",
       "      <th></th>\n",
       "    </tr>\n",
       "  </thead>\n",
       "  <tbody>\n",
       "    <tr>\n",
       "      <th>2010</th>\n",
       "      <td>241</td>\n",
       "      <td>44</td>\n",
       "      <td>1</td>\n",
       "      <td>0</td>\n",
       "      <td>0</td>\n",
       "      <td>0</td>\n",
       "      <td>286</td>\n",
       "    </tr>\n",
       "    <tr>\n",
       "      <th>2011</th>\n",
       "      <td>380</td>\n",
       "      <td>75</td>\n",
       "      <td>0</td>\n",
       "      <td>0</td>\n",
       "      <td>1</td>\n",
       "      <td>0</td>\n",
       "      <td>456</td>\n",
       "    </tr>\n",
       "    <tr>\n",
       "      <th>2012</th>\n",
       "      <td>431</td>\n",
       "      <td>56</td>\n",
       "      <td>1</td>\n",
       "      <td>2</td>\n",
       "      <td>0</td>\n",
       "      <td>1</td>\n",
       "      <td>491</td>\n",
       "    </tr>\n",
       "    <tr>\n",
       "      <th>2013</th>\n",
       "      <td>402</td>\n",
       "      <td>67</td>\n",
       "      <td>0</td>\n",
       "      <td>1</td>\n",
       "      <td>0</td>\n",
       "      <td>0</td>\n",
       "      <td>470</td>\n",
       "    </tr>\n",
       "    <tr>\n",
       "      <th>2014</th>\n",
       "      <td>307</td>\n",
       "      <td>73</td>\n",
       "      <td>5</td>\n",
       "      <td>0</td>\n",
       "      <td>0</td>\n",
       "      <td>0</td>\n",
       "      <td>385</td>\n",
       "    </tr>\n",
       "  </tbody>\n",
       "</table>\n",
       "</div>"
      ],
      "text/plain": [
       "INVEST_TOOL_DESC   Full Investigation  Limited Investigation  \\\n",
       "DATE_CONCLUDED_FY                                              \n",
       "2010                              241                     44   \n",
       "2011                              380                     75   \n",
       "2012                              431                     56   \n",
       "2013                              402                     67   \n",
       "2014                              307                     73   \n",
       "\n",
       "INVEST_TOOL_DESC   Housing Pre-Occupancy Insp.  Conciliation  Office Audit  \\\n",
       "DATE_CONCLUDED_FY                                                            \n",
       "2010                                         1             0             0   \n",
       "2011                                         0             0             1   \n",
       "2012                                         1             2             0   \n",
       "2013                                         0             1             0   \n",
       "2014                                         5             0             0   \n",
       "\n",
       "INVEST_TOOL_DESC   Self Audit  [total]  \n",
       "DATE_CONCLUDED_FY                       \n",
       "2010                        0      286  \n",
       "2011                        0      456  \n",
       "2012                        1      491  \n",
       "2013                        0      470  \n",
       "2014                        0      385  "
      ]
     },
     "execution_count": 11,
     "metadata": {},
     "output_type": "execute_result"
    }
   ],
   "source": [
    "case_counts"
   ]
  },
  {
   "cell_type": "markdown",
   "metadata": {},
   "source": [
    "*Note: The counts and below include all cases with at least some H-2 aspect indicated, regardless of whether H-2 was the primary focus or whether investigators found any H-2 violations.*"
   ]
  },
  {
   "cell_type": "markdown",
   "metadata": {},
   "source": [
    "### Distinct employer IDs associated with the cases above:"
   ]
  },
  {
   "cell_type": "code",
   "execution_count": 12,
   "metadata": {
    "collapsed": false
   },
   "outputs": [
    {
     "data": {
      "text/html": [
       "<div>\n",
       "<table border=\"1\" class=\"dataframe\">\n",
       "  <thead>\n",
       "    <tr style=\"text-align: right;\">\n",
       "      <th></th>\n",
       "      <th>n_employer_ids</th>\n",
       "    </tr>\n",
       "    <tr>\n",
       "      <th>DATE_CONCLUDED_FY</th>\n",
       "      <th></th>\n",
       "    </tr>\n",
       "  </thead>\n",
       "  <tbody>\n",
       "    <tr>\n",
       "      <th>2010</th>\n",
       "      <td>278</td>\n",
       "    </tr>\n",
       "    <tr>\n",
       "      <th>2011</th>\n",
       "      <td>435</td>\n",
       "    </tr>\n",
       "    <tr>\n",
       "      <th>2012</th>\n",
       "      <td>464</td>\n",
       "    </tr>\n",
       "    <tr>\n",
       "      <th>2013</th>\n",
       "      <td>446</td>\n",
       "    </tr>\n",
       "    <tr>\n",
       "      <th>2014</th>\n",
       "      <td>369</td>\n",
       "    </tr>\n",
       "  </tbody>\n",
       "</table>\n",
       "</div>"
      ],
      "text/plain": [
       "                   n_employer_ids\n",
       "DATE_CONCLUDED_FY                \n",
       "2010                          278\n",
       "2011                          435\n",
       "2012                          464\n",
       "2013                          446\n",
       "2014                          369"
      ]
     },
     "execution_count": 12,
     "metadata": {},
     "output_type": "execute_result"
    }
   ],
   "source": [
    "employer_counts"
   ]
  },
  {
   "cell_type": "markdown",
   "metadata": {},
   "source": [
    "## Data Loading — Certifications"
   ]
  },
  {
   "cell_type": "code",
   "execution_count": 13,
   "metadata": {
    "collapsed": false
   },
   "outputs": [],
   "source": [
    "date_parser = lambda x: pd.to_datetime(x, format=\"%Y-%m-%d\", coerce=True)\n",
    "oflc_decisions = pd.read_csv(\"../data/oflc-decisions/processed/oflc-decisions.csv\",\n",
    "                            parse_dates=[\"last_event_date\"],\n",
    "                            date_parser=date_parser)"
   ]
  },
  {
   "cell_type": "code",
   "execution_count": 14,
   "metadata": {
    "collapsed": false
   },
   "outputs": [],
   "source": [
    "oflc_decisions[\"last_event_date_fy\"] = oflc_decisions[\"last_event_date\"].apply(loaders.date_to_fy)"
   ]
  },
  {
   "cell_type": "code",
   "execution_count": 15,
   "metadata": {
    "collapsed": false
   },
   "outputs": [],
   "source": [
    "certifications = oflc_decisions[\n",
    "    (oflc_decisions[\"is_certified\"] == True) &\n",
    "    (oflc_decisions[\"is_expired\"] == False) &\n",
    "    (oflc_decisions[\"is_duplicate\"] == False) &\n",
    "    (oflc_decisions[\"last_event_date_fy\"] >= 2010) &\n",
    "    (oflc_decisions[\"last_event_date_fy\"] <= 2014)\n",
    "].copy()"
   ]
  },
  {
   "cell_type": "code",
   "execution_count": 16,
   "metadata": {
    "collapsed": true
   },
   "outputs": [],
   "source": [
    "non_alphanum_pat = re.compile(r\"[^A-Z0-9 ]+\")"
   ]
  },
  {
   "cell_type": "markdown",
   "metadata": {},
   "source": [
    "## Basic Standardization of Employer Names"
   ]
  },
  {
   "cell_type": "code",
   "execution_count": 17,
   "metadata": {
    "collapsed": true
   },
   "outputs": [],
   "source": [
    "def standardize_name(x):\n",
    "    return re.sub(non_alphanum_pat, \"\", x.upper().strip())"
   ]
  },
  {
   "cell_type": "code",
   "execution_count": 18,
   "metadata": {
    "collapsed": false
   },
   "outputs": [],
   "source": [
    "certifications[\"employer_name_standard\"] = certifications[\"employer_name\"]\\\n",
    "    .fillna(\"\")\\\n",
    "    .apply(standardize_name)"
   ]
  },
  {
   "cell_type": "markdown",
   "metadata": {},
   "source": [
    "#### Example of employer names before and after standardization:"
   ]
  },
  {
   "cell_type": "code",
   "execution_count": 19,
   "metadata": {
    "collapsed": false
   },
   "outputs": [
    {
     "data": {
      "text/html": [
       "<div>\n",
       "<table border=\"1\" class=\"dataframe\">\n",
       "  <thead>\n",
       "    <tr style=\"text-align: right;\">\n",
       "      <th></th>\n",
       "      <th>employer_name</th>\n",
       "      <th>employer_name_standard</th>\n",
       "    </tr>\n",
       "  </thead>\n",
       "  <tbody>\n",
       "    <tr>\n",
       "      <th>183649</th>\n",
       "      <td>Rough Water Seafood, LLC</td>\n",
       "      <td>ROUGH WATER SEAFOOD LLC</td>\n",
       "    </tr>\n",
       "    <tr>\n",
       "      <th>183651</th>\n",
       "      <td>FLORIDA HOSPITALITY MANAGEMENT LLC</td>\n",
       "      <td>FLORIDA HOSPITALITY MANAGEMENT LLC</td>\n",
       "    </tr>\n",
       "    <tr>\n",
       "      <th>183652</th>\n",
       "      <td>FLORIDA HOSPITALITY MANAGEMENT LLC</td>\n",
       "      <td>FLORIDA HOSPITALITY MANAGEMENT LLC</td>\n",
       "    </tr>\n",
       "    <tr>\n",
       "      <th>183653</th>\n",
       "      <td>Immigration Solutions Group, LLC</td>\n",
       "      <td>IMMIGRATION SOLUTIONS GROUP LLC</td>\n",
       "    </tr>\n",
       "    <tr>\n",
       "      <th>183654</th>\n",
       "      <td>Marshfield Forest Service, Inc.</td>\n",
       "      <td>MARSHFIELD FOREST SERVICE INC</td>\n",
       "    </tr>\n",
       "  </tbody>\n",
       "</table>\n",
       "</div>"
      ],
      "text/plain": [
       "                             employer_name              employer_name_standard\n",
       "183649            Rough Water Seafood, LLC             ROUGH WATER SEAFOOD LLC\n",
       "183651  FLORIDA HOSPITALITY MANAGEMENT LLC  FLORIDA HOSPITALITY MANAGEMENT LLC\n",
       "183652  FLORIDA HOSPITALITY MANAGEMENT LLC  FLORIDA HOSPITALITY MANAGEMENT LLC\n",
       "183653    Immigration Solutions Group, LLC     IMMIGRATION SOLUTIONS GROUP LLC\n",
       "183654     Marshfield Forest Service, Inc.       MARSHFIELD FOREST SERVICE INC"
      ]
     },
     "execution_count": 19,
     "metadata": {},
     "output_type": "execute_result"
    }
   ],
   "source": [
    "certifications[[\"employer_name\", \"employer_name_standard\"]].tail()"
   ]
  },
  {
   "cell_type": "code",
   "execution_count": 20,
   "metadata": {
    "collapsed": false
   },
   "outputs": [],
   "source": [
    "certs_by_fy = certifications.groupby(\"last_event_date_fy\")\n",
    "employer_cert_counts = pd.DataFrame({\n",
    "    \"n_employer_names\": certs_by_fy[\"employer_name_standard\"].nunique()\n",
    "})"
   ]
  },
  {
   "cell_type": "markdown",
   "metadata": {},
   "source": [
    "#### *Rough* count of the number of employers certified for H-2 visas, per fiscal year:"
   ]
  },
  {
   "cell_type": "code",
   "execution_count": 21,
   "metadata": {
    "collapsed": false
   },
   "outputs": [
    {
     "data": {
      "text/html": [
       "<div>\n",
       "<table border=\"1\" class=\"dataframe\">\n",
       "  <thead>\n",
       "    <tr style=\"text-align: right;\">\n",
       "      <th></th>\n",
       "      <th>n_employer_names</th>\n",
       "    </tr>\n",
       "    <tr>\n",
       "      <th>last_event_date_fy</th>\n",
       "      <th></th>\n",
       "    </tr>\n",
       "  </thead>\n",
       "  <tbody>\n",
       "    <tr>\n",
       "      <th>2010</th>\n",
       "      <td>8696</td>\n",
       "    </tr>\n",
       "    <tr>\n",
       "      <th>2011</th>\n",
       "      <td>8578</td>\n",
       "    </tr>\n",
       "    <tr>\n",
       "      <th>2012</th>\n",
       "      <td>8887</td>\n",
       "    </tr>\n",
       "    <tr>\n",
       "      <th>2013</th>\n",
       "      <td>9112</td>\n",
       "    </tr>\n",
       "    <tr>\n",
       "      <th>2014</th>\n",
       "      <td>9155</td>\n",
       "    </tr>\n",
       "  </tbody>\n",
       "</table>\n",
       "</div>"
      ],
      "text/plain": [
       "                    n_employer_names\n",
       "last_event_date_fy                  \n",
       "2010                            8696\n",
       "2011                            8578\n",
       "2012                            8887\n",
       "2013                            9112\n",
       "2014                            9155"
      ]
     },
     "execution_count": 21,
     "metadata": {},
     "output_type": "execute_result"
    }
   ],
   "source": [
    "employer_cert_counts"
   ]
  },
  {
   "cell_type": "markdown",
   "metadata": {},
   "source": [
    "---\n",
    "\n",
    "---\n",
    "\n",
    "---"
   ]
  }
 ],
 "metadata": {
  "kernelspec": {
   "display_name": "Python 2",
   "language": "python",
   "name": "python2"
  },
  "language_info": {
   "codemirror_mode": {
    "name": "ipython",
    "version": 2
   },
   "file_extension": ".py",
   "mimetype": "text/x-python",
   "name": "python",
   "nbconvert_exporter": "python",
   "pygments_lexer": "ipython2",
   "version": "2.7.9"
  }
 },
 "nbformat": 4,
 "nbformat_minor": 0
}
